{
 "cells": [
  {
   "cell_type": "markdown",
   "id": "9a85a7f5",
   "metadata": {},
   "source": [
    "# Data cleaning and EDA"
   ]
  },
  {
   "cell_type": "code",
   "execution_count": 1,
   "id": "2f4287d7",
   "metadata": {},
   "outputs": [],
   "source": [
    "import pandas as pd\n",
    "import numpy as np\n",
    "df = pd.read_csv('assignment_3_data.csv')"
   ]
  },
  {
   "cell_type": "code",
   "execution_count": 2,
   "id": "0e7e183b",
   "metadata": {},
   "outputs": [
    {
     "data": {
      "text/html": [
       "<div>\n",
       "<style scoped>\n",
       "    .dataframe tbody tr th:only-of-type {\n",
       "        vertical-align: middle;\n",
       "    }\n",
       "\n",
       "    .dataframe tbody tr th {\n",
       "        vertical-align: top;\n",
       "    }\n",
       "\n",
       "    .dataframe thead th {\n",
       "        text-align: right;\n",
       "    }\n",
       "</style>\n",
       "<table border=\"1\" class=\"dataframe\">\n",
       "  <thead>\n",
       "    <tr style=\"text-align: right;\">\n",
       "      <th></th>\n",
       "      <th>x0</th>\n",
       "      <th>x1</th>\n",
       "      <th>x34</th>\n",
       "      <th>x35</th>\n",
       "      <th>x36</th>\n",
       "      <th>x41</th>\n",
       "      <th>x45</th>\n",
       "      <th>x46</th>\n",
       "      <th>x68</th>\n",
       "      <th>x84</th>\n",
       "      <th>x93</th>\n",
       "      <th>x94</th>\n",
       "    </tr>\n",
       "  </thead>\n",
       "  <tbody>\n",
       "    <tr>\n",
       "      <th>0</th>\n",
       "      <td>0.196063</td>\n",
       "      <td>3.683995</td>\n",
       "      <td>tesla</td>\n",
       "      <td>thurday</td>\n",
       "      <td>-4.664154</td>\n",
       "      <td>$124.72</td>\n",
       "      <td>-0.01%</td>\n",
       "      <td>14.360555</td>\n",
       "      <td>Jun</td>\n",
       "      <td>-11.072770</td>\n",
       "      <td>asia</td>\n",
       "      <td>0.023357</td>\n",
       "    </tr>\n",
       "    <tr>\n",
       "      <th>1</th>\n",
       "      <td>23.155197</td>\n",
       "      <td>-9.226725</td>\n",
       "      <td>Toyota</td>\n",
       "      <td>thur</td>\n",
       "      <td>5.220242</td>\n",
       "      <td>$1,273.04</td>\n",
       "      <td>-0.01%</td>\n",
       "      <td>0.328324</td>\n",
       "      <td>July</td>\n",
       "      <td>4.601376</td>\n",
       "      <td>asia</td>\n",
       "      <td>1.349389</td>\n",
       "    </tr>\n",
       "    <tr>\n",
       "      <th>2</th>\n",
       "      <td>-13.969618</td>\n",
       "      <td>-0.343978</td>\n",
       "      <td>bmw</td>\n",
       "      <td>wednesday</td>\n",
       "      <td>-0.061424</td>\n",
       "      <td>($1,651.19)</td>\n",
       "      <td>0.00%</td>\n",
       "      <td>3.824882</td>\n",
       "      <td>Aug</td>\n",
       "      <td>17.351746</td>\n",
       "      <td>asia</td>\n",
       "      <td>2.149993</td>\n",
       "    </tr>\n",
       "    <tr>\n",
       "      <th>3</th>\n",
       "      <td>49.722481</td>\n",
       "      <td>-1.500789</td>\n",
       "      <td>Toyota</td>\n",
       "      <td>wed</td>\n",
       "      <td>1.908461</td>\n",
       "      <td>$896.05</td>\n",
       "      <td>0.01%</td>\n",
       "      <td>-6.201024</td>\n",
       "      <td>Aug</td>\n",
       "      <td>6.084073</td>\n",
       "      <td>asia</td>\n",
       "      <td>-3.052037</td>\n",
       "    </tr>\n",
       "    <tr>\n",
       "      <th>4</th>\n",
       "      <td>-13.494403</td>\n",
       "      <td>7.445215</td>\n",
       "      <td>Honda</td>\n",
       "      <td>wednesday</td>\n",
       "      <td>0.074133</td>\n",
       "      <td>($1,710.27)</td>\n",
       "      <td>0.01%</td>\n",
       "      <td>-12.547338</td>\n",
       "      <td>May</td>\n",
       "      <td>10.035783</td>\n",
       "      <td>asia</td>\n",
       "      <td>-0.100660</td>\n",
       "    </tr>\n",
       "  </tbody>\n",
       "</table>\n",
       "</div>"
      ],
      "text/plain": [
       "          x0        x1     x34        x35       x36          x41     x45  \\\n",
       "0   0.196063  3.683995   tesla    thurday -4.664154     $124.72   -0.01%   \n",
       "1  23.155197 -9.226725  Toyota       thur  5.220242   $1,273.04   -0.01%   \n",
       "2 -13.969618 -0.343978     bmw  wednesday -0.061424  ($1,651.19)   0.00%   \n",
       "3  49.722481 -1.500789  Toyota        wed  1.908461     $896.05    0.01%   \n",
       "4 -13.494403  7.445215   Honda  wednesday  0.074133  ($1,710.27)   0.01%   \n",
       "\n",
       "         x46   x68        x84   x93       x94  \n",
       "0  14.360555   Jun -11.072770  asia  0.023357  \n",
       "1   0.328324  July   4.601376  asia  1.349389  \n",
       "2   3.824882   Aug  17.351746  asia  2.149993  \n",
       "3  -6.201024   Aug   6.084073  asia -3.052037  \n",
       "4 -12.547338   May  10.035783  asia -0.100660  "
      ]
     },
     "execution_count": 2,
     "metadata": {},
     "output_type": "execute_result"
    }
   ],
   "source": [
    "df.head()"
   ]
  },
  {
   "cell_type": "markdown",
   "id": "d7df1bf7",
   "metadata": {},
   "source": [
    "## Task 1: Create consistency in data and correct strings"
   ]
  },
  {
   "cell_type": "code",
   "execution_count": 3,
   "id": "f372c1b2",
   "metadata": {},
   "outputs": [
    {
     "name": "stdout",
     "output_type": "stream",
     "text": [
      "<class 'pandas.core.frame.DataFrame'>\n",
      "RangeIndex: 999 entries, 0 to 998\n",
      "Data columns (total 12 columns):\n",
      " #   Column  Non-Null Count  Dtype  \n",
      "---  ------  --------------  -----  \n",
      " 0   x0      999 non-null    float64\n",
      " 1   x1      999 non-null    float64\n",
      " 2   x34     999 non-null    object \n",
      " 3   x35     999 non-null    object \n",
      " 4   x36     999 non-null    float64\n",
      " 5   x41     999 non-null    object \n",
      " 6   x45     998 non-null    object \n",
      " 7   x46     999 non-null    float64\n",
      " 8   x68     999 non-null    object \n",
      " 9   x84     999 non-null    float64\n",
      " 10  x93     999 non-null    object \n",
      " 11  x94     999 non-null    float64\n",
      "dtypes: float64(6), object(6)\n",
      "memory usage: 93.8+ KB\n"
     ]
    }
   ],
   "source": [
    "df.info()"
   ]
  },
  {
   "cell_type": "markdown",
   "id": "4d869194",
   "metadata": {},
   "source": [
    "<font color='blue'>We note that columns 'x41' and 'x45' are 'objects' but should be numeric types (e.g. 'float64'). There is also missing value in 'x45' that must be filled in.</font>"
   ]
  },
  {
   "cell_type": "markdown",
   "id": "dea540b8",
   "metadata": {},
   "source": [
    "## Convert columns 'x41' and 'x45' to numeric types 'float64'"
   ]
  },
  {
   "cell_type": "markdown",
   "id": "f53b0393",
   "metadata": {},
   "source": [
    "### Remove non-numeric characters, convert, and test"
   ]
  },
  {
   "cell_type": "code",
   "execution_count": 4,
   "id": "bc419120",
   "metadata": {},
   "outputs": [],
   "source": [
    "df['x41'] = df['x41'].apply(lambda x: x.replace('(', '-'))\n",
    "df['x41'] = df['x41'].apply(lambda x: x.replace(')', ''))\n",
    "df['x41'] = df['x41'].apply(lambda x: x.replace('$', ''))\n",
    "df['x41'] = df['x41'].apply(lambda x: x.replace(',', ''))"
   ]
  },
  {
   "cell_type": "code",
   "execution_count": 5,
   "id": "f10153de",
   "metadata": {},
   "outputs": [],
   "source": [
    "df['x41'] = pd.to_numeric(df['x41'])"
   ]
  },
  {
   "cell_type": "code",
   "execution_count": 6,
   "id": "daf9f57a",
   "metadata": {},
   "outputs": [
    {
     "name": "stdout",
     "output_type": "stream",
     "text": [
      "<class 'pandas.core.frame.DataFrame'>\n",
      "RangeIndex: 999 entries, 0 to 998\n",
      "Data columns (total 12 columns):\n",
      " #   Column  Non-Null Count  Dtype  \n",
      "---  ------  --------------  -----  \n",
      " 0   x0      999 non-null    float64\n",
      " 1   x1      999 non-null    float64\n",
      " 2   x34     999 non-null    object \n",
      " 3   x35     999 non-null    object \n",
      " 4   x36     999 non-null    float64\n",
      " 5   x41     999 non-null    float64\n",
      " 6   x45     998 non-null    object \n",
      " 7   x46     999 non-null    float64\n",
      " 8   x68     999 non-null    object \n",
      " 9   x84     999 non-null    float64\n",
      " 10  x93     999 non-null    object \n",
      " 11  x94     999 non-null    float64\n",
      "dtypes: float64(7), object(5)\n",
      "memory usage: 93.8+ KB\n"
     ]
    }
   ],
   "source": [
    "df.info()"
   ]
  },
  {
   "cell_type": "markdown",
   "id": "52d3c09e",
   "metadata": {},
   "source": [
    "### Repeat for column 'x45'"
   ]
  },
  {
   "cell_type": "markdown",
   "id": "c02631c5",
   "metadata": {},
   "source": [
    "<font color='blue'>Our apply function fails if we try to run it because we are missing a value in one of the rows. We define a function that removes any '%' in the cell and returns the appropriate value.</font>"
   ]
  },
  {
   "cell_type": "code",
   "execution_count": 7,
   "id": "ff27bfef",
   "metadata": {},
   "outputs": [],
   "source": [
    "def percent_replace(x):\n",
    "    try:\n",
    "        return x.replace('%', '')\n",
    "    except:            \n",
    "        if x == np.NaN:\n",
    "            return np.NaN\n",
    "        else: \n",
    "            return x   \n",
    "\n",
    "df['x45'] = df['x45'].apply(percent_replace)"
   ]
  },
  {
   "cell_type": "code",
   "execution_count": 8,
   "id": "bbebef27",
   "metadata": {},
   "outputs": [
    {
     "data": {
      "text/plain": [
       "879    NaN\n",
       "Name: x45, dtype: object"
      ]
     },
     "execution_count": 8,
     "metadata": {},
     "output_type": "execute_result"
    }
   ],
   "source": [
    "tb = df['x45'].isnull() \n",
    "df['x45'][tb]"
   ]
  },
  {
   "cell_type": "code",
   "execution_count": 9,
   "id": "456d8415",
   "metadata": {},
   "outputs": [],
   "source": [
    "df['x45'] = pd.to_numeric(df['x45'])"
   ]
  },
  {
   "cell_type": "code",
   "execution_count": 10,
   "id": "29bb1131",
   "metadata": {},
   "outputs": [
    {
     "name": "stdout",
     "output_type": "stream",
     "text": [
      "<class 'pandas.core.frame.DataFrame'>\n",
      "RangeIndex: 999 entries, 0 to 998\n",
      "Data columns (total 12 columns):\n",
      " #   Column  Non-Null Count  Dtype  \n",
      "---  ------  --------------  -----  \n",
      " 0   x0      999 non-null    float64\n",
      " 1   x1      999 non-null    float64\n",
      " 2   x34     999 non-null    object \n",
      " 3   x35     999 non-null    object \n",
      " 4   x36     999 non-null    float64\n",
      " 5   x41     999 non-null    float64\n",
      " 6   x45     998 non-null    float64\n",
      " 7   x46     999 non-null    float64\n",
      " 8   x68     999 non-null    object \n",
      " 9   x84     999 non-null    float64\n",
      " 10  x93     999 non-null    object \n",
      " 11  x94     999 non-null    float64\n",
      "dtypes: float64(8), object(4)\n",
      "memory usage: 93.8+ KB\n"
     ]
    }
   ],
   "source": [
    "df.info()"
   ]
  },
  {
   "cell_type": "markdown",
   "id": "48d84991",
   "metadata": {},
   "source": [
    "<font color='blue'>Problem solved, but we still need to fix the missing value. Let's replace the missing value with something that won't change the shape of the data</font>"
   ]
  },
  {
   "cell_type": "code",
   "execution_count": 11,
   "id": "845df453",
   "metadata": {},
   "outputs": [
    {
     "data": {
      "text/plain": [
       "count    998.000000\n",
       "mean      -0.000050\n",
       "std        0.010384\n",
       "min       -0.030000\n",
       "25%       -0.010000\n",
       "50%        0.000000\n",
       "75%        0.010000\n",
       "max        0.030000\n",
       "Name: x45, dtype: float64"
      ]
     },
     "execution_count": 11,
     "metadata": {},
     "output_type": "execute_result"
    }
   ],
   "source": [
    "df['x45'].describe()"
   ]
  },
  {
   "cell_type": "markdown",
   "id": "f51be12e",
   "metadata": {},
   "source": [
    "<font color='blue'>The mean of column 'x45' is trivially less than 0, so we are safe to just fill in the empty cell with 0</font>"
   ]
  },
  {
   "cell_type": "code",
   "execution_count": 12,
   "id": "fd4a45de",
   "metadata": {},
   "outputs": [],
   "source": [
    "df['x45'].fillna(value = 0, inplace=True)"
   ]
  },
  {
   "cell_type": "code",
   "execution_count": 13,
   "id": "ae341205",
   "metadata": {},
   "outputs": [
    {
     "name": "stdout",
     "output_type": "stream",
     "text": [
      "<class 'pandas.core.frame.DataFrame'>\n",
      "RangeIndex: 999 entries, 0 to 998\n",
      "Data columns (total 12 columns):\n",
      " #   Column  Non-Null Count  Dtype  \n",
      "---  ------  --------------  -----  \n",
      " 0   x0      999 non-null    float64\n",
      " 1   x1      999 non-null    float64\n",
      " 2   x34     999 non-null    object \n",
      " 3   x35     999 non-null    object \n",
      " 4   x36     999 non-null    float64\n",
      " 5   x41     999 non-null    float64\n",
      " 6   x45     999 non-null    float64\n",
      " 7   x46     999 non-null    float64\n",
      " 8   x68     999 non-null    object \n",
      " 9   x84     999 non-null    float64\n",
      " 10  x93     999 non-null    object \n",
      " 11  x94     999 non-null    float64\n",
      "dtypes: float64(8), object(4)\n",
      "memory usage: 93.8+ KB\n"
     ]
    }
   ],
   "source": [
    "df.info()"
   ]
  },
  {
   "cell_type": "markdown",
   "id": "ba863569",
   "metadata": {},
   "source": [
    "<font color='blue'>Success! x41 and x45 are now numeric objects! There are no missing values</font>"
   ]
  },
  {
   "cell_type": "markdown",
   "id": "dbb594fb",
   "metadata": {},
   "source": [
    "## For the string columns, fix spelling and remove variations of equivalent values (i.e. collapse \"Thurs\" and \"Thursday\" to a single value)"
   ]
  },
  {
   "cell_type": "code",
   "execution_count": 14,
   "id": "6c947118",
   "metadata": {},
   "outputs": [
    {
     "data": {
      "text/html": [
       "<div>\n",
       "<style scoped>\n",
       "    .dataframe tbody tr th:only-of-type {\n",
       "        vertical-align: middle;\n",
       "    }\n",
       "\n",
       "    .dataframe tbody tr th {\n",
       "        vertical-align: top;\n",
       "    }\n",
       "\n",
       "    .dataframe thead th {\n",
       "        text-align: right;\n",
       "    }\n",
       "</style>\n",
       "<table border=\"1\" class=\"dataframe\">\n",
       "  <thead>\n",
       "    <tr style=\"text-align: right;\">\n",
       "      <th></th>\n",
       "      <th>x0</th>\n",
       "      <th>x1</th>\n",
       "      <th>x34</th>\n",
       "      <th>x35</th>\n",
       "      <th>x36</th>\n",
       "      <th>x41</th>\n",
       "      <th>x45</th>\n",
       "      <th>x46</th>\n",
       "      <th>x68</th>\n",
       "      <th>x84</th>\n",
       "      <th>x93</th>\n",
       "      <th>x94</th>\n",
       "    </tr>\n",
       "  </thead>\n",
       "  <tbody>\n",
       "    <tr>\n",
       "      <th>0</th>\n",
       "      <td>0.196063</td>\n",
       "      <td>3.683995</td>\n",
       "      <td>tesla</td>\n",
       "      <td>thurday</td>\n",
       "      <td>-4.664154</td>\n",
       "      <td>124.72</td>\n",
       "      <td>-0.01</td>\n",
       "      <td>14.360555</td>\n",
       "      <td>Jun</td>\n",
       "      <td>-11.072770</td>\n",
       "      <td>asia</td>\n",
       "      <td>0.023357</td>\n",
       "    </tr>\n",
       "    <tr>\n",
       "      <th>1</th>\n",
       "      <td>23.155197</td>\n",
       "      <td>-9.226725</td>\n",
       "      <td>Toyota</td>\n",
       "      <td>thur</td>\n",
       "      <td>5.220242</td>\n",
       "      <td>1273.04</td>\n",
       "      <td>-0.01</td>\n",
       "      <td>0.328324</td>\n",
       "      <td>July</td>\n",
       "      <td>4.601376</td>\n",
       "      <td>asia</td>\n",
       "      <td>1.349389</td>\n",
       "    </tr>\n",
       "    <tr>\n",
       "      <th>2</th>\n",
       "      <td>-13.969618</td>\n",
       "      <td>-0.343978</td>\n",
       "      <td>bmw</td>\n",
       "      <td>wednesday</td>\n",
       "      <td>-0.061424</td>\n",
       "      <td>-1651.19</td>\n",
       "      <td>0.00</td>\n",
       "      <td>3.824882</td>\n",
       "      <td>Aug</td>\n",
       "      <td>17.351746</td>\n",
       "      <td>asia</td>\n",
       "      <td>2.149993</td>\n",
       "    </tr>\n",
       "    <tr>\n",
       "      <th>3</th>\n",
       "      <td>49.722481</td>\n",
       "      <td>-1.500789</td>\n",
       "      <td>Toyota</td>\n",
       "      <td>wed</td>\n",
       "      <td>1.908461</td>\n",
       "      <td>896.05</td>\n",
       "      <td>0.01</td>\n",
       "      <td>-6.201024</td>\n",
       "      <td>Aug</td>\n",
       "      <td>6.084073</td>\n",
       "      <td>asia</td>\n",
       "      <td>-3.052037</td>\n",
       "    </tr>\n",
       "    <tr>\n",
       "      <th>4</th>\n",
       "      <td>-13.494403</td>\n",
       "      <td>7.445215</td>\n",
       "      <td>Honda</td>\n",
       "      <td>wednesday</td>\n",
       "      <td>0.074133</td>\n",
       "      <td>-1710.27</td>\n",
       "      <td>0.01</td>\n",
       "      <td>-12.547338</td>\n",
       "      <td>May</td>\n",
       "      <td>10.035783</td>\n",
       "      <td>asia</td>\n",
       "      <td>-0.100660</td>\n",
       "    </tr>\n",
       "    <tr>\n",
       "      <th>...</th>\n",
       "      <td>...</td>\n",
       "      <td>...</td>\n",
       "      <td>...</td>\n",
       "      <td>...</td>\n",
       "      <td>...</td>\n",
       "      <td>...</td>\n",
       "      <td>...</td>\n",
       "      <td>...</td>\n",
       "      <td>...</td>\n",
       "      <td>...</td>\n",
       "      <td>...</td>\n",
       "      <td>...</td>\n",
       "    </tr>\n",
       "    <tr>\n",
       "      <th>994</th>\n",
       "      <td>18.373405</td>\n",
       "      <td>-7.902737</td>\n",
       "      <td>volkswagon</td>\n",
       "      <td>wed</td>\n",
       "      <td>-3.651558</td>\n",
       "      <td>-1520.19</td>\n",
       "      <td>0.00</td>\n",
       "      <td>-4.009639</td>\n",
       "      <td>Oct</td>\n",
       "      <td>8.519576</td>\n",
       "      <td>asia</td>\n",
       "      <td>-0.790982</td>\n",
       "    </tr>\n",
       "    <tr>\n",
       "      <th>995</th>\n",
       "      <td>55.762861</td>\n",
       "      <td>-11.687225</td>\n",
       "      <td>bmw</td>\n",
       "      <td>thurday</td>\n",
       "      <td>3.204393</td>\n",
       "      <td>687.44</td>\n",
       "      <td>-0.02</td>\n",
       "      <td>-13.827186</td>\n",
       "      <td>July</td>\n",
       "      <td>4.745582</td>\n",
       "      <td>asia</td>\n",
       "      <td>2.529016</td>\n",
       "    </tr>\n",
       "    <tr>\n",
       "      <th>996</th>\n",
       "      <td>-8.957643</td>\n",
       "      <td>11.970364</td>\n",
       "      <td>Honda</td>\n",
       "      <td>wednesday</td>\n",
       "      <td>0.309493</td>\n",
       "      <td>419.60</td>\n",
       "      <td>0.00</td>\n",
       "      <td>2.905907</td>\n",
       "      <td>May</td>\n",
       "      <td>-0.643147</td>\n",
       "      <td>asia</td>\n",
       "      <td>0.600268</td>\n",
       "    </tr>\n",
       "    <tr>\n",
       "      <th>997</th>\n",
       "      <td>5.887040</td>\n",
       "      <td>5.370001</td>\n",
       "      <td>volkswagon</td>\n",
       "      <td>thurday</td>\n",
       "      <td>-3.700755</td>\n",
       "      <td>-1214.32</td>\n",
       "      <td>-0.01</td>\n",
       "      <td>3.089698</td>\n",
       "      <td>July</td>\n",
       "      <td>-5.489663</td>\n",
       "      <td>euorpe</td>\n",
       "      <td>1.017123</td>\n",
       "    </tr>\n",
       "    <tr>\n",
       "      <th>998</th>\n",
       "      <td>6.778203</td>\n",
       "      <td>-6.325029</td>\n",
       "      <td>volkswagon</td>\n",
       "      <td>wed</td>\n",
       "      <td>-3.745862</td>\n",
       "      <td>980.70</td>\n",
       "      <td>-0.01</td>\n",
       "      <td>8.173062</td>\n",
       "      <td>Jun</td>\n",
       "      <td>12.089001</td>\n",
       "      <td>america</td>\n",
       "      <td>-0.290048</td>\n",
       "    </tr>\n",
       "  </tbody>\n",
       "</table>\n",
       "<p>999 rows × 12 columns</p>\n",
       "</div>"
      ],
      "text/plain": [
       "            x0         x1         x34        x35       x36      x41   x45  \\\n",
       "0     0.196063   3.683995       tesla    thurday -4.664154   124.72 -0.01   \n",
       "1    23.155197  -9.226725      Toyota       thur  5.220242  1273.04 -0.01   \n",
       "2   -13.969618  -0.343978         bmw  wednesday -0.061424 -1651.19  0.00   \n",
       "3    49.722481  -1.500789      Toyota        wed  1.908461   896.05  0.01   \n",
       "4   -13.494403   7.445215       Honda  wednesday  0.074133 -1710.27  0.01   \n",
       "..         ...        ...         ...        ...       ...      ...   ...   \n",
       "994  18.373405  -7.902737  volkswagon        wed -3.651558 -1520.19  0.00   \n",
       "995  55.762861 -11.687225         bmw    thurday  3.204393   687.44 -0.02   \n",
       "996  -8.957643  11.970364       Honda  wednesday  0.309493   419.60  0.00   \n",
       "997   5.887040   5.370001  volkswagon    thurday -3.700755 -1214.32 -0.01   \n",
       "998   6.778203  -6.325029  volkswagon        wed -3.745862   980.70 -0.01   \n",
       "\n",
       "           x46   x68        x84      x93       x94  \n",
       "0    14.360555   Jun -11.072770     asia  0.023357  \n",
       "1     0.328324  July   4.601376     asia  1.349389  \n",
       "2     3.824882   Aug  17.351746     asia  2.149993  \n",
       "3    -6.201024   Aug   6.084073     asia -3.052037  \n",
       "4   -12.547338   May  10.035783     asia -0.100660  \n",
       "..         ...   ...        ...      ...       ...  \n",
       "994  -4.009639   Oct   8.519576     asia -0.790982  \n",
       "995 -13.827186  July   4.745582     asia  2.529016  \n",
       "996   2.905907   May  -0.643147     asia  0.600268  \n",
       "997   3.089698  July  -5.489663   euorpe  1.017123  \n",
       "998   8.173062   Jun  12.089001  america -0.290048  \n",
       "\n",
       "[999 rows x 12 columns]"
      ]
     },
     "execution_count": 14,
     "metadata": {},
     "output_type": "execute_result"
    }
   ],
   "source": [
    "df"
   ]
  },
  {
   "cell_type": "markdown",
   "id": "b9ec383f",
   "metadata": {},
   "source": [
    "<font color='blue'>Columns 'x34', 'x35', 'x68', and 'x93' are object-types (strings). Let's start by identifying the unique values in each column and looking for inconsistancies.</font> "
   ]
  },
  {
   "cell_type": "markdown",
   "id": "44dcb485",
   "metadata": {},
   "source": [
    "## column x34"
   ]
  },
  {
   "cell_type": "code",
   "execution_count": 15,
   "id": "e073249e",
   "metadata": {},
   "outputs": [
    {
     "data": {
      "text/plain": [
       "array(['tesla', 'Toyota', 'bmw', 'Honda', 'ford', 'volkswagon',\n",
       "       'chrystler', 'nissan', 'mercades', 'chevrolet'], dtype=object)"
      ]
     },
     "execution_count": 15,
     "metadata": {},
     "output_type": "execute_result"
    }
   ],
   "source": [
    "pd.unique(df['x34'])"
   ]
  },
  {
   "cell_type": "markdown",
   "id": "6e991c74",
   "metadata": {},
   "source": [
    "<font color='blue'>Fortunately, there are no variations of a single value to fix, but there are spelling and capitalization errors to fix.</font>"
   ]
  },
  {
   "cell_type": "code",
   "execution_count": 16,
   "id": "043accbb",
   "metadata": {},
   "outputs": [
    {
     "data": {
      "text/plain": [
       "array(['Tesla', 'Toyota', 'BMW', 'Honda', 'Ford', 'Volkswagen',\n",
       "       'Chrysler', 'Nissan', 'Mercedes', 'Chevrolet'], dtype=object)"
      ]
     },
     "execution_count": 16,
     "metadata": {},
     "output_type": "execute_result"
    }
   ],
   "source": [
    "df['x34'] = df['x34'].apply(lambda x: x.title())\n",
    "df['x34'] = df['x34'].apply(lambda x: x.replace('Chrystler', 'Chrysler'))\n",
    "df['x34'] = df['x34'].apply(lambda x: x.replace('Bmw', 'BMW'))\n",
    "df['x34'] = df['x34'].apply(lambda x: x.replace('Volkswagon', 'Volkswagen'))\n",
    "df['x34'] = df['x34'].apply(lambda x: x.replace('Mercades', 'Mercedes'))\n",
    "pd.unique(df['x34'])"
   ]
  },
  {
   "cell_type": "markdown",
   "id": "60f27fab",
   "metadata": {},
   "source": [
    "## column x35"
   ]
  },
  {
   "cell_type": "code",
   "execution_count": 17,
   "id": "d9b50504",
   "metadata": {},
   "outputs": [
    {
     "data": {
      "text/plain": [
       "array(['thurday', 'thur', 'wednesday', 'wed', 'tuesday', 'monday',\n",
       "       'friday', 'fri'], dtype=object)"
      ]
     },
     "execution_count": 17,
     "metadata": {},
     "output_type": "execute_result"
    }
   ],
   "source": [
    "pd.unique(df['x35'])"
   ]
  },
  {
   "cell_type": "code",
   "execution_count": 18,
   "id": "a1873b64",
   "metadata": {},
   "outputs": [
    {
     "data": {
      "text/plain": [
       "array(['Thursday', 'Wednesday', 'Tuesday', 'Monday', 'Friday'],\n",
       "      dtype=object)"
      ]
     },
     "execution_count": 18,
     "metadata": {},
     "output_type": "execute_result"
    }
   ],
   "source": [
    "df['x35'] = df['x35'].apply(lambda x: x.title())\n",
    "df['x35'] = df['x35'].apply(lambda x: x.replace('Thurday', 'Thursday'))\n",
    "df['x35'] = df['x35'].apply(lambda x: x.replace('Thur', 'Thursday') if len(x) == 4 else x) \n",
    "df['x35'] = df['x35'].apply(lambda x: x.replace('Wed', 'Wednesday') if len(x) == 3 else x)\n",
    "df['x35'] = df['x35'].apply(lambda x: x.replace('Fri', 'Friday') if len(x) == 3 else x)\n",
    "pd.unique(df['x35'])"
   ]
  },
  {
   "cell_type": "markdown",
   "id": "32d76c24",
   "metadata": {},
   "source": [
    "<font color='blue'>Note: the above if/else statements ensure that only the abbreviated strings are changed, i.e. we don't convert 'Thursday' to 'ThurThursday', etc.</font>"
   ]
  },
  {
   "cell_type": "markdown",
   "id": "fe55e093",
   "metadata": {},
   "source": [
    "## column x68"
   ]
  },
  {
   "cell_type": "code",
   "execution_count": 19,
   "id": "8933033b",
   "metadata": {},
   "outputs": [
    {
     "data": {
      "text/plain": [
       "array(['Jun', 'July', 'Aug', 'May', 'Apr', 'sept.', 'Oct', 'Dev', 'Mar',\n",
       "       'Nov'], dtype=object)"
      ]
     },
     "execution_count": 19,
     "metadata": {},
     "output_type": "execute_result"
    }
   ],
   "source": [
    "pd.unique(df['x68'])"
   ]
  },
  {
   "cell_type": "code",
   "execution_count": 20,
   "id": "f24c1ed1",
   "metadata": {},
   "outputs": [
    {
     "data": {
      "text/plain": [
       "array(['Jun', 'Jul', 'Aug', 'May', 'Apr', 'Sep', 'Oct', 'Nov', 'Mar'],\n",
       "      dtype=object)"
      ]
     },
     "execution_count": 20,
     "metadata": {},
     "output_type": "execute_result"
    }
   ],
   "source": [
    "df['x68'] = df['x68'].apply(lambda x: x.replace('July', 'Jul'))\n",
    "df['x68'] = df['x68'].apply(lambda x: x.replace('sept.', 'Sep'))\n",
    "df['x68'] = df['x68'].apply(lambda x: x.replace('Dev', 'Nov'))\n",
    "pd.unique(df['x68'])"
   ]
  },
  {
   "cell_type": "markdown",
   "id": "bec31a13",
   "metadata": {},
   "source": [
    "## column x93"
   ]
  },
  {
   "cell_type": "code",
   "execution_count": 21,
   "id": "13c6af6b",
   "metadata": {},
   "outputs": [
    {
     "data": {
      "text/plain": [
       "array(['asia', 'america', 'euorpe'], dtype=object)"
      ]
     },
     "execution_count": 21,
     "metadata": {},
     "output_type": "execute_result"
    }
   ],
   "source": [
    "pd.unique(df['x93'])"
   ]
  },
  {
   "cell_type": "code",
   "execution_count": 22,
   "id": "ad6a249c",
   "metadata": {},
   "outputs": [
    {
     "data": {
      "text/plain": [
       "array(['Asia', 'America', 'Europe'], dtype=object)"
      ]
     },
     "execution_count": 22,
     "metadata": {},
     "output_type": "execute_result"
    }
   ],
   "source": [
    "df['x93'] = df['x93'].apply(lambda x: x.replace('euorpe', 'europe'))\n",
    "df['x93'] = df['x93'].apply(lambda x: x.title())\n",
    "pd.unique(df['x93'])"
   ]
  },
  {
   "cell_type": "markdown",
   "id": "8757be33",
   "metadata": {},
   "source": [
    "# Task 2: Check for skew and transform data where necessary"
   ]
  },
  {
   "cell_type": "code",
   "execution_count": 23,
   "id": "a7cd913a",
   "metadata": {},
   "outputs": [
    {
     "data": {
      "text/plain": [
       "array([[<AxesSubplot:title={'center':'x0'}>,\n",
       "        <AxesSubplot:title={'center':'x1'}>,\n",
       "        <AxesSubplot:title={'center':'x36'}>],\n",
       "       [<AxesSubplot:title={'center':'x41'}>,\n",
       "        <AxesSubplot:title={'center':'x45'}>,\n",
       "        <AxesSubplot:title={'center':'x46'}>],\n",
       "       [<AxesSubplot:title={'center':'x84'}>,\n",
       "        <AxesSubplot:title={'center':'x94'}>, <AxesSubplot:>]],\n",
       "      dtype=object)"
      ]
     },
     "execution_count": 23,
     "metadata": {},
     "output_type": "execute_result"
    },
    {
     "data": {
      "image/png": "[encoded data removed]",
      "text/plain": [
       "<Figure size 432x288 with 9 Axes>"
      ]
     },
     "metadata": {
      "needs_background": "light"
     },
     "output_type": "display_data"
    }
   ],
   "source": [
    "df.hist()"
   ]
  },
  {
   "cell_type": "markdown",
   "id": "92bf28ed",
   "metadata": {},
   "source": [
    "<font color='blue'>x45 looks strange but this is because the default number of bins for the histogram is 10, whereas x45 only has 7 unique values. The histogram looks fine when we set the bins to 7</font>"
   ]
  },
  {
   "cell_type": "code",
   "execution_count": 24,
   "id": "d9f4f952",
   "metadata": {},
   "outputs": [
    {
     "data": {
      "text/plain": [
       "array([-0.01,  0.  ,  0.01,  0.02, -0.02, -0.03,  0.03])"
      ]
     },
     "execution_count": 24,
     "metadata": {},
     "output_type": "execute_result"
    }
   ],
   "source": [
    "pd.unique(df['x45'])"
   ]
  },
  {
   "cell_type": "code",
   "execution_count": 25,
   "id": "236bef79",
   "metadata": {},
   "outputs": [
    {
     "data": {
      "text/plain": [
       "<AxesSubplot:>"
      ]
     },
     "execution_count": 25,
     "metadata": {},
     "output_type": "execute_result"
    },
    {
     "data": {
      "image/png": "[encoded data removed]",
      "text/plain": [
       "<Figure size 432x288 with 1 Axes>"
      ]
     },
     "metadata": {
      "needs_background": "light"
     },
     "output_type": "display_data"
    }
   ],
   "source": [
    "df['x45'].hist(bins=7)"
   ]
  },
  {
   "cell_type": "markdown",
   "id": "3a089c82",
   "metadata": {},
   "source": [
    "<font color='blue'>The histograms reveal that the data is \"approximately symmetrical\" for all numeric columns. The skew calculations confirm the visual evaluation, with no skew outside the range [-0.5, 0.5] (see \"rule of thumb\" for characterizing symmetrical data at https://brownmath.com/stat/shape.htm) </font>"
   ]
  },
  {
   "cell_type": "code",
   "execution_count": 26,
   "id": "bfed8fea",
   "metadata": {},
   "outputs": [
    {
     "data": {
      "text/plain": [
       "x0     0.016471\n",
       "x1    -0.017563\n",
       "x36   -0.040221\n",
       "x41    0.134217\n",
       "x45   -0.124713\n",
       "x46   -0.033025\n",
       "x84    0.050609\n",
       "x94    0.040699\n",
       "dtype: float64"
      ]
     },
     "execution_count": 26,
     "metadata": {},
     "output_type": "execute_result"
    }
   ],
   "source": [
    "df.skew(numeric_only=True)"
   ]
  },
  {
   "cell_type": "markdown",
   "id": "3d06470a",
   "metadata": {},
   "source": [
    "# Task 3: Identify any correlations that may exist"
   ]
  },
  {
   "cell_type": "code",
   "execution_count": 27,
   "id": "d39c2b1f",
   "metadata": {},
   "outputs": [
    {
     "data": {
      "text/html": [
       "<div>\n",
       "<style scoped>\n",
       "    .dataframe tbody tr th:only-of-type {\n",
       "        vertical-align: middle;\n",
       "    }\n",
       "\n",
       "    .dataframe tbody tr th {\n",
       "        vertical-align: top;\n",
       "    }\n",
       "\n",
       "    .dataframe thead th {\n",
       "        text-align: right;\n",
       "    }\n",
       "</style>\n",
       "<table border=\"1\" class=\"dataframe\">\n",
       "  <thead>\n",
       "    <tr style=\"text-align: right;\">\n",
       "      <th></th>\n",
       "      <th>x0</th>\n",
       "      <th>x1</th>\n",
       "      <th>x36</th>\n",
       "      <th>x41</th>\n",
       "      <th>x45</th>\n",
       "      <th>x46</th>\n",
       "      <th>x84</th>\n",
       "      <th>x94</th>\n",
       "    </tr>\n",
       "  </thead>\n",
       "  <tbody>\n",
       "    <tr>\n",
       "      <th>x0</th>\n",
       "      <td>True</td>\n",
       "      <td>False</td>\n",
       "      <td>False</td>\n",
       "      <td>False</td>\n",
       "      <td>False</td>\n",
       "      <td>False</td>\n",
       "      <td>False</td>\n",
       "      <td>False</td>\n",
       "    </tr>\n",
       "    <tr>\n",
       "      <th>x1</th>\n",
       "      <td>False</td>\n",
       "      <td>True</td>\n",
       "      <td>False</td>\n",
       "      <td>False</td>\n",
       "      <td>False</td>\n",
       "      <td>False</td>\n",
       "      <td>False</td>\n",
       "      <td>False</td>\n",
       "    </tr>\n",
       "    <tr>\n",
       "      <th>x36</th>\n",
       "      <td>False</td>\n",
       "      <td>False</td>\n",
       "      <td>True</td>\n",
       "      <td>False</td>\n",
       "      <td>False</td>\n",
       "      <td>False</td>\n",
       "      <td>False</td>\n",
       "      <td>False</td>\n",
       "    </tr>\n",
       "    <tr>\n",
       "      <th>x41</th>\n",
       "      <td>False</td>\n",
       "      <td>False</td>\n",
       "      <td>False</td>\n",
       "      <td>True</td>\n",
       "      <td>False</td>\n",
       "      <td>False</td>\n",
       "      <td>False</td>\n",
       "      <td>False</td>\n",
       "    </tr>\n",
       "    <tr>\n",
       "      <th>x45</th>\n",
       "      <td>False</td>\n",
       "      <td>False</td>\n",
       "      <td>False</td>\n",
       "      <td>False</td>\n",
       "      <td>True</td>\n",
       "      <td>False</td>\n",
       "      <td>False</td>\n",
       "      <td>False</td>\n",
       "    </tr>\n",
       "    <tr>\n",
       "      <th>x46</th>\n",
       "      <td>False</td>\n",
       "      <td>False</td>\n",
       "      <td>False</td>\n",
       "      <td>False</td>\n",
       "      <td>False</td>\n",
       "      <td>True</td>\n",
       "      <td>False</td>\n",
       "      <td>False</td>\n",
       "    </tr>\n",
       "    <tr>\n",
       "      <th>x84</th>\n",
       "      <td>False</td>\n",
       "      <td>False</td>\n",
       "      <td>False</td>\n",
       "      <td>False</td>\n",
       "      <td>False</td>\n",
       "      <td>False</td>\n",
       "      <td>True</td>\n",
       "      <td>False</td>\n",
       "    </tr>\n",
       "    <tr>\n",
       "      <th>x94</th>\n",
       "      <td>False</td>\n",
       "      <td>False</td>\n",
       "      <td>False</td>\n",
       "      <td>False</td>\n",
       "      <td>False</td>\n",
       "      <td>False</td>\n",
       "      <td>False</td>\n",
       "      <td>True</td>\n",
       "    </tr>\n",
       "  </tbody>\n",
       "</table>\n",
       "</div>"
      ],
      "text/plain": [
       "        x0     x1    x36    x41    x45    x46    x84    x94\n",
       "x0    True  False  False  False  False  False  False  False\n",
       "x1   False   True  False  False  False  False  False  False\n",
       "x36  False  False   True  False  False  False  False  False\n",
       "x41  False  False  False   True  False  False  False  False\n",
       "x45  False  False  False  False   True  False  False  False\n",
       "x46  False  False  False  False  False   True  False  False\n",
       "x84  False  False  False  False  False  False   True  False\n",
       "x94  False  False  False  False  False  False  False   True"
      ]
     },
     "execution_count": 27,
     "metadata": {},
     "output_type": "execute_result"
    }
   ],
   "source": [
    "bool_tab_correlation = (df.corr()>0.5) | (df.corr()<-0.5)\n",
    "bool_tab_correlation "
   ]
  },
  {
   "cell_type": "markdown",
   "id": "3a3a0daf",
   "metadata": {},
   "source": [
    "<font color='blue'>In class, it was recommended to only consider correlations outside of range (-0.5, 0.5). According to the above table, none of the columns pass that threshold when compared to other columns</font> "
   ]
  },
  {
   "cell_type": "markdown",
   "id": "d0a552e6",
   "metadata": {},
   "source": [
    "# Task 4: Output cleaned data and submit"
   ]
  },
  {
   "cell_type": "code",
   "execution_count": 28,
   "id": "7868e4a9",
   "metadata": {},
   "outputs": [],
   "source": [
    "df.to_csv('BRoddey_wk5_assignment_data_cleaned.csv')"
   ]
  }
 ],
 "metadata": {
  "kernelspec": {
   "display_name": "Python 3",
   "language": "python",
   "name": "python3"
  },
  "language_info": {
   "codemirror_mode": {
    "name": "ipython",
    "version": 3
   },
   "file_extension": ".py",
   "mimetype": "text/x-python",
   "name": "python",
   "nbconvert_exporter": "python",
   "pygments_lexer": "ipython3",
   "version": "3.8.5"
  }
 },
 "nbformat": 4,
 "nbformat_minor": 5
}
